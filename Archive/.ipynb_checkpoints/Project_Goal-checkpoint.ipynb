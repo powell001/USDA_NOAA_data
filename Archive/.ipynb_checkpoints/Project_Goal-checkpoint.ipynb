{
 "cells": [
  {
   "cell_type": "markdown",
   "metadata": {},
   "source": [
    "# Goal\n",
    "\n",
    "1. Our goal is to build a basic soybean yield model to predict the final yearly yield of that crop.  We will use features such as temperature (avg) and precipitation, US state, NDVI (measure of quality), podcount and test a shift operator to test the hypothesis that technolical change in the last few years has significantly, on linearly, increased yields"
   ]
  },
  {
   "cell_type": "markdown",
   "metadata": {},
   "source": [
    "1. Yearly yields:\n",
    "    \n",
    "    <font size=\"3\"> $$ Yields_{y} \\sim PodCount_{m} + State_{y} + Temp_{m} + Precip_{m} + NDVI_{m} + Shift + error_{y} $$ </font>\n",
    "    "
   ]
  },
  {
   "cell_type": "markdown",
   "metadata": {},
   "source": [
    "# Long term Goals:\n",
    "1. Automate process of modeling yield forecasts.\n",
    "2. Incorporate global data.\n",
    "3. Provide a range of forecasts."
   ]
  },
  {
   "cell_type": "markdown",
   "metadata": {},
   "source": [
    "# Immediate Goals:\n",
    "1. Use US data to forecast soybean yields.\n",
    "2. Automate downloading of data and model scoring.\n",
    "3. Provide figures.\n",
    "4. Test and compare several forecasting methods."
   ]
  },
  {
   "cell_type": "markdown",
   "metadata": {},
   "source": [
    "# <u>Features</u>"
   ]
  },
  {
   "cell_type": "markdown",
   "metadata": {},
   "source": [
    "## Yields\n",
    "\n",
    "### Hypothsis: Historical yields are a good indicator of future yields.\n",
    "\n",
    "1. Plots clearly show a significant trend."
   ]
  },
  {
   "cell_type": "markdown",
   "metadata": {},
   "source": [
    "## Pod Count\n",
    "\n",
    "### Hypothesis: A good pod count indicates a good final yield.\n",
    "\n",
    "1. We aren't interested in the final pod count, rather the intermediate counts as a way to predict the final yields (which is highly related to the count).\n",
    "2. So we need the pod counts for several intermediate months.\n",
    "\n"
   ]
  },
  {
   "cell_type": "markdown",
   "metadata": {},
   "source": [
    "## Weather Features\n",
    "\n",
    "1. Bad weather in particular months will damage the soybean crops.  \n",
    "2. Look at min, max and precipitation.\n",
    "3. Try to identify patterns in extreme events."
   ]
  },
  {
   "cell_type": "markdown",
   "metadata": {},
   "source": [
    "## Quality of Crop\n",
    "1. This is another feature examining the quality of a crop at a particular moment.\n"
   ]
  },
  {
   "cell_type": "markdown",
   "metadata": {},
   "source": [
    "# <u>Models</u>"
   ]
  },
  {
   "cell_type": "markdown",
   "metadata": {},
   "source": [
    "## Simple Trend\n",
    "\n",
    "1. Just draw a line that fits the data"
   ]
  },
  {
   "cell_type": "code",
   "execution_count": null,
   "metadata": {},
   "outputs": [],
   "source": [
    "import pandas as pd\n",
    "import warnings\n",
    "warnings.filterwarnings('ignore')\n",
    "\n",
    "testYear = 2016\n",
    "\n",
    "yld1 = pd.read_csv(\"data_model_ready/model_allStates_yields.csv\")\n",
    "yld1.set_index('Year', inplace=True, drop=False)\n",
    "iowa1 = yld1[yld1[\"State\"] == \"IOWA\"]\n",
    "\n"
   ]
  },
  {
   "cell_type": "code",
   "execution_count": null,
   "metadata": {},
   "outputs": [],
   "source": [
    "real1 = iowa1.tail(5)[\"Yield\"]"
   ]
  },
  {
   "cell_type": "code",
   "execution_count": null,
   "metadata": {},
   "outputs": [],
   "source": [
    "iowa1[\"Yield\"].plot(figsize=(11, 9))"
   ]
  },
  {
   "cell_type": "code",
   "execution_count": null,
   "metadata": {},
   "outputs": [],
   "source": [
    "import statsmodels.api as sm\n",
    "import statsmodels.formula.api as smf\n",
    "test1 = iowa1[iowa1[\"Year\"] < testYear]\n",
    "\n",
    "results = smf.ols('Yield ~ Year', data=test1).fit()\n",
    "print(results.summary())"
   ]
  },
  {
   "cell_type": "code",
   "execution_count": null,
   "metadata": {},
   "outputs": [],
   "source": [
    "ypred = results.predict(test1[\"Year\"])\n",
    "print(ypred)"
   ]
  },
  {
   "cell_type": "code",
   "execution_count": null,
   "metadata": {},
   "outputs": [],
   "source": [
    "\n",
    "Xnew = pd.DataFrame({\"Year\": list(range(testYear, 2021))})\n",
    "Xnewl = list(range(testYear, 2021))\n",
    "Xnewc = sm.add_constant(Xnew)\n",
    "Xnewc\n",
    "\n",
    "ynewpred =  results.predict(Xnewc) # predict out of sample\n",
    "print(ynewpred)"
   ]
  },
  {
   "cell_type": "code",
   "execution_count": null,
   "metadata": {},
   "outputs": [],
   "source": [
    "import matplotlib.pyplot as plt\n",
    "import numpy as np\n",
    "\n",
    "plt.rc(\"figure\", figsize=(16,8))\n",
    "plt.rc(\"font\", size=14)\n",
    "\n",
    "fig, ax = plt.subplots()\n",
    "ax.plot(test1[\"Year\"], test1[\"Yield\"], 'o', label=\"Data\")\n",
    "ax.plot(test1[\"Year\"], ypred, 'b-', label=\"Historical\")\n",
    "ax.plot(np.hstack((test1[\"Year\"], Xnewl)), np.hstack((ypred, ynewpred)), 'r', label=\"OLS prediction\")\n",
    "ax.legend(loc=\"best\")"
   ]
  },
  {
   "cell_type": "code",
   "execution_count": null,
   "metadata": {},
   "outputs": [],
   "source": [
    "results2 = smf.ols('Yield ~ Year + I(Year**2)', data=test1).fit()\n",
    "print(results2.summary())"
   ]
  },
  {
   "cell_type": "code",
   "execution_count": null,
   "metadata": {},
   "outputs": [],
   "source": [
    "Xnew = pd.DataFrame({\"Year\": list(range(testYear, 2021))})\n",
    "Xnewc = sm.add_constant(Xnew)\n",
    "Xnewc\n",
    "\n",
    "ynewpred2 =  results2.predict(Xnewc) # predict out of sample\n",
    "print(ynewpred2)"
   ]
  },
  {
   "cell_type": "code",
   "execution_count": null,
   "metadata": {},
   "outputs": [],
   "source": [
    "from IPython.display import HTML, display\n",
    "import tabulate\n",
    "table = [[\"Year\", \"Real\", \"Trend\", \"Trend+\"],\n",
    "         [\"2016\", 60.0, 51.9, 52.9],\n",
    "         [\"2017\", 57.0,  52.2, 53.4],\n",
    "         [\"2018\", 56.0, 52.6, 54.0],\n",
    "         [\"2019\", 55.0, 53.1, 54.5],\n",
    "        [\"2020\", 58.0, 53.5, 55.0]]\n",
    "display(HTML(tabulate.tabulate(table, tablefmt='html')))"
   ]
  },
  {
   "cell_type": "code",
   "execution_count": null,
   "metadata": {},
   "outputs": [],
   "source": [
    "import statsmodels.api as sm\n",
    "from statsmodels.tsa.arima_model import ARIMA\n",
    "from matplotlib import pyplot"
   ]
  },
  {
   "cell_type": "code",
   "execution_count": null,
   "metadata": {},
   "outputs": [],
   "source": [
    "# Construct the model\n",
    "series = test1[\"Yield\"] \n",
    "mod = sm.tsa.SARIMAX(series, order=(1, 1, 0), trend='c')\n",
    "# Estimate the parameters\n",
    "res = mod.fit()\n",
    "\n",
    "print(res.summary())"
   ]
  },
  {
   "cell_type": "code",
   "execution_count": null,
   "metadata": {},
   "outputs": [],
   "source": [
    "print(res.forecast(5))"
   ]
  },
  {
   "cell_type": "code",
   "execution_count": null,
   "metadata": {},
   "outputs": [],
   "source": [
    "from IPython.display import HTML, display\n",
    "import tabulate\n",
    "table = [[\"Year\", \"Real\", \"Trend\", \"Trend+\", \"ARIMA\"],\n",
    "         [\"2016\", 60.0, 51.9, 52.9, 54.3],\n",
    "         [\"2017\", 57.0,  52.2, 53.4, 56.2],\n",
    "         [\"2018\", 56.0, 52.6, 54.0, 56.0],\n",
    "         [\"2019\", 55.0, 53.1, 54.5, 56.8],\n",
    "        [\"2020\", 58.0, 53.5, 55.0, 57.0]]\n",
    "display(HTML(tabulate.tabulate(table, tablefmt='html')))"
   ]
  },
  {
   "cell_type": "markdown",
   "metadata": {},
   "source": [
    "## Add weather data"
   ]
  },
  {
   "cell_type": "code",
   "execution_count": null,
   "metadata": {},
   "outputs": [],
   "source": [
    "tmax1 = pd.read_csv(\"data_model_ready/model_allStates_maxTemp1.csv\")\n",
    "tmax1.set_index('Year', inplace=True, drop=False)\n",
    "tmax1 = tmax1[tmax1[\"State\"] == \"IOWA\"]\n",
    "tmax1 = tmax1[[\"Maxtemp_Aug\", \"Maxtemp_Jul\", \"Year\"]]\n",
    "iowa2 = iowa1[[\"Yield\"]]\n",
    "iowa3 = iowa2.join(tmax1)"
   ]
  },
  {
   "cell_type": "code",
   "execution_count": null,
   "metadata": {},
   "outputs": [],
   "source": [
    "test1 = iowa3[iowa3[\"Year\"] < testYear]\n",
    "results = smf.ols('Yield ~ Year + I(Year**2) + Maxtemp_Aug', data=test1).fit()\n",
    "print(results.summary())"
   ]
  },
  {
   "cell_type": "code",
   "execution_count": null,
   "metadata": {},
   "outputs": [],
   "source": [
    "train1 = iowa3[iowa3[\"Year\"] >= testYear]\n",
    "ynewpred =  results.predict(train1) # predict out of sample\n",
    "print(ynewpred)\n",
    "\n",
    "from IPython.display import HTML, display\n",
    "import tabulate\n",
    "table = [[\"Year\", \"Real\", \"Trend\", \"Trend+\", \"ARIMA\", \"MaxTemp\"],\n",
    "         [\"2016\", 60.0, 51.9, 52.9, 54.3, 52.9],\n",
    "         [\"2017\", 57.0,  52.2, 53.4, 56.2, 54.8],\n",
    "         [\"2018\", 56.0, 52.6, 54.0, 56.0, 53.7],\n",
    "         [\"2019\", 55.0, 53.1, 54.5, 56.8, 55.0],\n",
    "        [\"2020\", 58.0, 53.5, 55.0, 57.0, 'NA']]\n",
    "display(HTML(tabulate.tabulate(table, tablefmt='html')))"
   ]
  },
  {
   "cell_type": "code",
   "execution_count": null,
   "metadata": {},
   "outputs": [],
   "source": [
    "tmin1 = pd.read_csv(\"data_model_ready/model_allStates_minTemp1.csv\")\n",
    "tmin1.set_index('Year', inplace=True, drop=False)\n",
    "tmin1 = tmin1[tmin1[\"State\"] == \"IOWA\"]\n",
    "tmin1 = tmin1[[\"Mintemp_Jul\", \"Mintemp_Aug\", \"Year\"]]\n",
    "tmin1.drop([\"Year\"], axis=1, inplace=True)\n",
    "iowa4 = iowa3.join(tmin1)\n",
    "iowa4[\"AvgTemp_Aug\"] = iowa4[['Maxtemp_Aug', 'Mintemp_Aug']].mean(axis=1)\n",
    "iowa4.loc[2020, \"AvgTemp_Aug\"] = 71.9\n",
    "iowa4"
   ]
  },
  {
   "cell_type": "code",
   "execution_count": null,
   "metadata": {},
   "outputs": [],
   "source": [
    "import pandas as pd\n",
    "precip1 = pd.read_csv(\"data_model_ready/model_allStates_precip.csv\")\n",
    "precip1.set_index('Year', inplace=True, drop=True)\n",
    "precip1 = precip1[precip1[\"State\"] == \"IOWA\"]\n",
    "numRows = precip1.shape[0]\n",
    "precip1.loc[2020,'Precip_Aug'] = 1.21\n",
    "precip1[\"Year\"] = precip1.index\n",
    "precip1"
   ]
  },
  {
   "cell_type": "code",
   "execution_count": null,
   "metadata": {},
   "outputs": [],
   "source": [
    "precip1 = precip1[[\"Precip_Aug\", \"Precip_Jul\"]]\n",
    "precip1.replace(-9.99, np.nan, inplace=True)\n",
    "precip1\n",
    "iowa5 = iowa4.join(precip1)\n",
    "iowa5"
   ]
  },
  {
   "cell_type": "code",
   "execution_count": null,
   "metadata": {},
   "outputs": [],
   "source": [
    "test1 = iowa5[iowa5[\"Year\"] < testYear]\n",
    "results = smf.ols('Yield ~ Year + I(Year**2) + Maxtemp_Aug + Mintemp_Aug + Precip_Aug + I(Precip_Aug**2)', data=test1).fit()\n",
    "print(results.summary())"
   ]
  },
  {
   "cell_type": "code",
   "execution_count": null,
   "metadata": {},
   "outputs": [],
   "source": [
    "train1 = iowa5[iowa5[\"Year\"] >= testYear]\n",
    "ynewpred =  results.predict(train1) # predict out of sample\n",
    "print(ynewpred)\n"
   ]
  },
  {
   "cell_type": "code",
   "execution_count": null,
   "metadata": {},
   "outputs": [],
   "source": [
    "from IPython.display import HTML, display\n",
    "import tabulate\n",
    "table = [[\"Year\", \"Real\", \"Trend\", \"Trend+\", \"ARIMA\", \"MaxTemp\", \"MaxT_Precip\"],\n",
    "         [\"2016\", 60.0, 51.9, 52.9, 54.3, 52.9, 54.2],\n",
    "         [\"2017\", 57.0,  52.2, 53.4, 56.2, 54.8, 54.8],\n",
    "         [\"2018\", 56.0, 52.6, 54.0, 56.0, 53.7, 55.0],\n",
    "         [\"2019\", 55.0, 53.1, 54.5, 56.8, 55.0, 55.3],\n",
    "        [\"2020\", 58.0, 53.5, 55.0, 57.0, 'NA', 'NA']]\n",
    "display(HTML(tabulate.tabulate(table, tablefmt='html')))"
   ]
  },
  {
   "cell_type": "code",
   "execution_count": null,
   "metadata": {},
   "outputs": [],
   "source": [
    "podcount = pd.read_csv(\"data_model_ready/model_allStates_podcount.csv\")\n",
    "podcount.set_index('Year', inplace=True, drop=False)\n",
    "podcount = podcount[podcount[\"State\"] == \"IOWA\"]\n",
    "podcount.head(5)"
   ]
  },
  {
   "cell_type": "code",
   "execution_count": null,
   "metadata": {},
   "outputs": [],
   "source": [
    "podcount = podcount[[\"Sep_pod_forecast\", \"Nov_pod_forecast\"]]\n",
    "iowa6 = iowa5.join(podcount)\n",
    "iowa6"
   ]
  },
  {
   "cell_type": "code",
   "execution_count": null,
   "metadata": {},
   "outputs": [],
   "source": [
    "test1 = iowa6[iowa6[\"Year\"] < testYear]\n",
    "results = smf.ols('Yield ~ Year + I(Year**2) + Maxtemp_Aug + Precip_Aug + I(Precip_Aug**2) + Nov_pod_forecast', data=test1).fit()\n",
    "print(results.summary())"
   ]
  },
  {
   "cell_type": "code",
   "execution_count": null,
   "metadata": {},
   "outputs": [],
   "source": [
    "train1 = iowa6[iowa6[\"Year\"] >= testYear]\n",
    "ynewpred =  results.predict(train1) # predict out of sample\n",
    "print(ynewpred)"
   ]
  },
  {
   "cell_type": "code",
   "execution_count": null,
   "metadata": {},
   "outputs": [],
   "source": [
    "from IPython.display import HTML, display\n",
    "import tabulate\n",
    "table = [[\"Year\", \"Real\", \"Trend\", \"Trend+\", \"ARIMA\", \"MaxTemp\", \"MaxT_Precip\", \"PodCount\"],\n",
    "         [\"2016\", 60.0, 51.9, 52.9, 54.3, 52.9, 54.2, 54.7],\n",
    "         [\"2017\", 57.0,  52.2, 53.4, 56.2, 54.8, 54.8, 54.4],\n",
    "         [\"2018\", 56.0, 52.6, 54.0, 56.0, 53.7, 55.0, 60.0],\n",
    "         [\"2019\", 55.0, 53.1, 54.5, 56.8, 55.0, 55.3, 53.8],\n",
    "        [\"2020\", 58.0, 53.5, 55.0, 57.0, 'NA', 'NA', 'NA']]\n",
    "display(HTML(tabulate.tabulate(table, tablefmt='html')))"
   ]
  },
  {
   "cell_type": "code",
   "execution_count": null,
   "metadata": {},
   "outputs": [],
   "source": [
    "quality = pd.read_csv(\"data_model_ready/model_allStates_quality.csv\")\n",
    "quality.set_index('Year', inplace=True, drop=False)\n",
    "quality = quality[quality[\"State\"] == \"IOWA\"]\n",
    "quality.head(5)"
   ]
  },
  {
   "cell_type": "code",
   "execution_count": null,
   "metadata": {},
   "outputs": [],
   "source": [
    "quality = quality[['WEEK #35PCT EXCELLENT']]\n",
    "quality.rename(columns={'WEEK #35PCT EXCELLENT': 'WEEK_35PCT_EXCELLENT'}, inplace=True)\n",
    "iowa7 = iowa6.join(quality)\n",
    "iowa7"
   ]
  },
  {
   "cell_type": "code",
   "execution_count": null,
   "metadata": {},
   "outputs": [],
   "source": [
    "test1 = iowa7[iowa7[\"Year\"] < testYear]\n",
    "results = smf.ols('Yield ~ Year + I(Year**2) + Maxtemp_Aug + Precip_Aug + I(Precip_Aug**2) + Nov_pod_forecast + WEEK_35PCT_EXCELLENT', data=test1).fit()\n",
    "print(results.summary())"
   ]
  },
  {
   "cell_type": "code",
   "execution_count": null,
   "metadata": {},
   "outputs": [],
   "source": [
    "train1 = iowa7[iowa7[\"Year\"] >= testYear]\n",
    "ynewpred =  results.predict(train1) # predict out of sample\n",
    "print(ynewpred)"
   ]
  },
  {
   "cell_type": "code",
   "execution_count": null,
   "metadata": {},
   "outputs": [],
   "source": [
    "from IPython.display import HTML, display\n",
    "import tabulate\n",
    "table = [[\"Year\", \"Real\", \"Trend\", \"Trend+\", \"ARIMA\", \"MaxTemp\", \"MaxT_Precip\", \"PodCount\", \"Quality\"],\n",
    "         [\"2016\", 60.0, 51.9, 52.9, 54.3, 52.9, 54.2, 54.7, 56.7],\n",
    "         [\"2017\", 57.0,  52.2, 53.4, 56.2, 54.8, 54.8, 54.4, 52.8],\n",
    "         [\"2018\", 56.0, 52.6, 54.0, 56.0, 53.7, 55.0, 60.0, 58.2],\n",
    "         [\"2019\", 55.0, 53.1, 54.5, 56.8, 55.0, 55.3, 53.8, 53.4],\n",
    "        [\"2020\", 58.0, 53.5, 55.0, 57.0, 'NA', 'NA', 'NA', 'NA']]\n",
    "display(HTML(tabulate.tabulate(table, tablefmt='html')))"
   ]
  },
  {
   "cell_type": "code",
   "execution_count": null,
   "metadata": {},
   "outputs": [],
   "source": [
    "import matplotlib.pyplot as plt\n",
    "import numpy as np\n",
    "\n",
    "plt.rc(\"figure\", figsize=(16,8))\n",
    "plt.rc(\"font\", size=14)\n",
    "\n",
    "fig, ax = plt.subplots()\n",
    "ax.plot(test1[\"Year\"], test1[\"Yield\"], 'o', label=\"Data\")\n",
    "ax.plot(test1[\"Year\"], ypred, 'b-', label=\"Historical\")\n",
    "ax.plot(np.hstack((test1[\"Year\"], Xnewl)), np.hstack((ypred, ynewpred)), 'r', label=\"OLS prediction\")\n",
    "ax.legend(loc=\"best\")"
   ]
  },
  {
   "cell_type": "markdown",
   "metadata": {},
   "source": [
    "## Travis model"
   ]
  },
  {
   "cell_type": "code",
   "execution_count": null,
   "metadata": {},
   "outputs": [],
   "source": [
    "iowa7"
   ]
  }
 ],
 "metadata": {
  "kernelspec": {
   "display_name": "venv python36",
   "language": "python",
   "name": "python36"
  },
  "language_info": {
   "codemirror_mode": {
    "name": "ipython",
    "version": 3
   },
   "file_extension": ".py",
   "mimetype": "text/x-python",
   "name": "python",
   "nbconvert_exporter": "python",
   "pygments_lexer": "ipython3",
   "version": "3.6.9"
  }
 },
 "nbformat": 4,
 "nbformat_minor": 4
}
