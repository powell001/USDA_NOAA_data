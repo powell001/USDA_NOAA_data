{
 "cells": [
  {
   "cell_type": "code",
   "execution_count": 223,
   "metadata": {},
   "outputs": [],
   "source": [
    "import pandas as pd\n",
    "import numpy as np\n",
    "import matplotlib.pyplot as plt\n",
    "import seaborn as sns\n",
    "import requests\n",
    "import json\n",
    "from functools import reduce"
   ]
  },
  {
   "cell_type": "code",
   "execution_count": 224,
   "metadata": {},
   "outputs": [],
   "source": [
    "hd1 = [\"identifier\", \"jan\", \"feb\", \"mar\", \"apr\", \"may\", \"jun\", \"jul\", \"aug\", \"sep\", \"oct\", \"nov\", \"dec\"]\n",
    "precip  = pd.read_csv(\"weatherData/precipState\",  names=hd1, sep='\\s+', dtype=\"str\")\n",
    "minTemp = pd.read_csv(\"weatherData/minTempState\", names=hd1, sep='\\s+', dtype=\"str\")\n",
    "maxTemp = pd.read_csv(\"weatherData/maxTempState\", names=hd1, sep='\\s+', dtype=\"str\")\n",
    "states  = pd.read_csv(\"weatherData/StatesCode.csv\", names=[\"stateCode\" , \"State\"], dtype=\"str\")"
   ]
  },
  {
   "cell_type": "code",
   "execution_count": 225,
   "metadata": {},
   "outputs": [],
   "source": [
    "def weatherData(states, feature1, state1, month1, featureName):\n",
    "        st1 = states[states[\"State\"] == state1][\"stateCode\"].astype(str)\n",
    "        ident1  = feature1[\"identifier\"].astype(str)\n",
    "        subset1 = feature1[ident1.str.startswith(st1.iloc[0], na=False)]\n",
    "        temp1   = subset1[month1]\n",
    "        year1   = subset1[\"identifier\"].str.strip().str[-4:]    \n",
    "     \n",
    "        return(pd.DataFrame({\"year\": year1.T, \"state\": state1, featureName + \"_\" + month1: temp1.T}))                              "
   ]
  },
  {
   "cell_type": "code",
   "execution_count": 242,
   "metadata": {},
   "outputs": [],
   "source": [
    "# loop over months per state        \n",
    "                            \n",
    "mnt1 = [\"aug\", \"sep\", \"oct\"]    \n",
    "Iowa1 = [] \n",
    "    \n",
    "for i in mnt1:\n",
    "    dt1 = weatherData(states, minTemp, \"Iowa\", i, \"minTemp\")                                           \n",
    "    Iowa1.append(dt1)\n",
    " \n",
    "\n",
    "df_merged = reduce(lambda  left,right: pd.merge(left,right,on=['year'], how='inner'), Iowa1)\n",
    "df_merged.drop([\"state_x\", \"state_y\"], axis = 1, inplace=True)   \n",
    "\n",
    "Iowa_minTemp = df_merged[[\"year\", \"state\", \"minTemp_aug\", \"minTemp_sep\", \"minTemp_oct\"]]\n",
    "Iowa_minTemp.replace(-99.90, np.nan, inplace=True)\n",
    "Iowa_minTemp.to_csv(\"Iowa_minTemp.csv\", index = False)\n",
    "                                  "
   ]
  },
  {
   "cell_type": "code",
   "execution_count": 243,
   "metadata": {},
   "outputs": [],
   "source": [
    "# loop over months per state        \n",
    "                            \n",
    "mnt1 = [\"aug\", \"sep\", \"oct\"]    \n",
    "Iowa1 = [] \n",
    "    \n",
    "for i in mnt1:\n",
    "    dt1 = weatherData(states, maxTemp, \"Iowa\", i, \"maxTemp\")                                           \n",
    "    Iowa1.append(dt1)\n",
    "    \n",
    "df_merged = reduce(lambda  left,right: pd.merge(left,right,on=['year'], how='inner'), Iowa1)\n",
    "df_merged.drop([\"state_x\", \"state_y\"], axis = 1, inplace=True)   \n",
    "\n",
    "Iowa_maxTemp = df_merged[[\"year\", \"state\", \"maxTemp_aug\", \"maxTemp_sep\", \"maxTemp_oct\"]]\n",
    "Iowa_maxTemp.replace('-99.90', np.nan,  inplace=True)\n",
    "Iowa_maxTemp.to_csv(\"Iowa_maxTemp.csv\", index = False)"
   ]
  }
 ],
 "metadata": {
  "kernelspec": {
   "display_name": "venv python36",
   "language": "python",
   "name": "python36"
  },
  "language_info": {
   "codemirror_mode": {
    "name": "ipython",
    "version": 3
   },
   "file_extension": ".py",
   "mimetype": "text/x-python",
   "name": "python",
   "nbconvert_exporter": "python",
   "pygments_lexer": "ipython3",
   "version": "3.6.9"
  }
 },
 "nbformat": 4,
 "nbformat_minor": 4
}
