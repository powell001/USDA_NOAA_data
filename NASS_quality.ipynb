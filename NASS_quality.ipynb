{
 "cells": [
  {
   "cell_type": "code",
   "execution_count": 477,
   "metadata": {},
   "outputs": [],
   "source": [
    "import pandas as pd\n",
    "import numpy as np\n",
    "import matplotlib.pyplot as plt\n",
    "import seaborn as sns\n",
    "import requests\n",
    "import json\n",
    "\n",
    "statesofInterest = ['IOWA', 'INDIANA', 'ILLINOIS', 'KANSAS', 'MINNESOTA', 'MISSOURI', 'NEBRASKA', 'NORTH DAKOTA', 'SOUTH DAKOTA', 'OHIO']"
   ]
  },
  {
   "cell_type": "code",
   "execution_count": 478,
   "metadata": {},
   "outputs": [],
   "source": [
    "def crop_yield(year_param):\n",
    "\n",
    "     # These are the parameters in the API that you choose.\n",
    "    ploads = {'format': 'JSON',\n",
    "              'soucre_desc': 'SURVEY',\n",
    "              'sector_desc': 'CROPS',\n",
    "              'group_desc': 'FIELD CROPS',\n",
    "              'commodity_desc': 'SOYBEANS',\n",
    "              'prodn_practice_desc': 'ALL',\n",
    "              'statisticcat_desc': 'CONDITION',\n",
    "              'state_name': ['IOWA', 'INDIANA', 'ILLINOIS', 'KANSAS', 'MINNESOTA', 'MISSOURI', 'NEBRASKA', 'NORTH DAKOTA', 'SOUTH DAKOTA', 'OHIO'],\n",
    "              'year__GT': year_param,\n",
    "              'prodn_practice_desc': 'ALL PRODUCTION PRACTICES'\n",
    "              }\n",
    "    # key (make a parameter)\n",
    "    r = requests.get(\"https://quickstats.nass.usda.gov/api/api_GET/?key=1C757E50-5169-30CC-BEFD-40A5C3E2A43D\", params=ploads)\n",
    "    # execute get request\n",
    "    dt1 = json.dumps(r.json(), indent=2, sort_keys=True)\n",
    "    # make it json format\n",
    "    obj1 = json.loads(dt1)\n",
    "\n",
    "    # collect relevant data for each object created\n",
    "    dt2 = []\n",
    "    for i in obj1[\"data\"]:\n",
    "        dt2.append([i[\"year\"], i[\"reference_period_desc\"], i[\"commodity_desc\"], i[\"Value\"], i['unit_desc'], i['state_name']])\n",
    "        #dt2.append([i])\n",
    "    # convert from dictionary format to pandas\n",
    "    dt3 = pd.DataFrame.from_dict(dt2)\n",
    "    return dt3"
   ]
  },
  {
   "cell_type": "code",
   "execution_count": 479,
   "metadata": {},
   "outputs": [],
   "source": [
    "ts = crop_yield('1800')\n",
    "ts.columns = [\"Year\", \"Week\", \"Crop\", \"Value\", \"Quality_Prct\", \"State\"]\n",
    "ts.sort_values([\"Year\", \"Quality_Prct\"], inplace=True)\n",
    "ts.sort_values([\"Year\", \"Week\"], inplace=True)"
   ]
  },
  {
   "cell_type": "code",
   "execution_count": 480,
   "metadata": {},
   "outputs": [],
   "source": [
    "state = ts[\"State\"].unique()\n",
    "qual  = ts[\"Quality_Prct\"].unique()\n",
    "year  = ts[\"Year\"].unique()\n",
    "weeks = [\"WEEK #30\", \"WEEK #35\", \"WEEK #40\"]\n",
    "\n",
    "st1 = []\n",
    "for s in state:\n",
    "    stat1 = ts[ts[\"State\"] == s]\n",
    "    yr1 = []\n",
    "    for y in year:\n",
    "        year1 = stat1[stat1[\"Year\"] == y]\n",
    "        q1 = []\n",
    "        for q in qual:\n",
    "            qual1 = year1[year1[\"Quality_Prct\"] == q] \n",
    "            new1 = qual1.pivot(index='Year', columns=\"Week\", values='Value')\n",
    "            \n",
    "            avail1 = new1.columns\n",
    "            test1 = weeks\n",
    "            missing1 = np.setdiff1d(test1,avail1)\n",
    "            \n",
    "            for i in missing1:\n",
    "                new1[i] = np.nan\n",
    "            new1 = new1[weeks]\n",
    "            \n",
    "            new1.columns = [s + q for s in weeks] \n",
    "            q1.append(new1)\n",
    "        qperyr = pd.concat(q1, axis=1) \n",
    "        yr1.append(qperyr)\n",
    "    yrsq = pd.concat(yr1, axis = 0)\n",
    "    yrsq[\"State\"] = s\n",
    "    st1.append(yrsq)\n",
    "dt1 = pd.concat(st1, axis = 0)  \n",
    "dt1.sort_values([ \"State\", \"Year\"], inplace=True) \n"
   ]
  },
  {
   "cell_type": "code",
   "execution_count": 481,
   "metadata": {},
   "outputs": [],
   "source": [
    "dt1.head()\n",
    "bokeh = dt1[dt1[\"State\"] == \"IOWA\"]\n",
    "bokeh = bokeh[\"WEEK #35PCT GOOD\"]\n",
    "bokeh.to_csv(\"Iowa_NVDI.csv\")"
   ]
  },
  {
   "cell_type": "code",
   "execution_count": 482,
   "metadata": {},
   "outputs": [],
   "source": [
    "dt1['State'] = dt1['State'].str.upper() \n",
    "model_allStates_quality = dt1[dt1['State'].isin(statesofInterest)]\n",
    "model_allStates_quality.to_csv(\"data_model_ready/model_allStates_quality.csv\")"
   ]
  },
  {
   "cell_type": "code",
   "execution_count": null,
   "metadata": {},
   "outputs": [],
   "source": []
  }
 ],
 "metadata": {
  "kernelspec": {
   "display_name": "venv python36",
   "language": "python",
   "name": "python36"
  },
  "language_info": {
   "codemirror_mode": {
    "name": "ipython",
    "version": 3
   },
   "file_extension": ".py",
   "mimetype": "text/x-python",
   "name": "python",
   "nbconvert_exporter": "python",
   "pygments_lexer": "ipython3",
   "version": "3.6.9"
  }
 },
 "nbformat": 4,
 "nbformat_minor": 4
}
